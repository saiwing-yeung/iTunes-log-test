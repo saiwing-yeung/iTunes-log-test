{
 "cells": [
  {
   "cell_type": "code",
   "execution_count": null,
   "metadata": {
    "ExecuteTime": {
     "end_time": "2016-05-07T05:15:16.823657",
     "start_time": "2016-05-07T05:15:15.653306"
    },
    "collapsed": false
   },
   "outputs": [],
   "source": [
    "import numpy as np\n",
    "import pandas as pd\n",
    "import csv\n",
    "\n",
    "%matplotlib inline\n",
    "import matplotlib\n",
    "import matplotlib.pyplot as plt\n",
    "matplotlib.style.use('ggplot')\n"
   ]
  },
  {
   "cell_type": "code",
   "execution_count": null,
   "metadata": {
    "ExecuteTime": {
     "end_time": "2016-05-07T05:15:16.835799",
     "start_time": "2016-05-07T05:15:16.825111"
    },
    "collapsed": false
   },
   "outputs": [],
   "source": [
    "input_file = '~/Documents/itunes-log.csv'\n",
    "\n",
    "logs = pd.read_csv(input_file, quotechar = '\"', escapechar = \"\\\\\", parse_dates = [0])"
   ]
  },
  {
   "cell_type": "code",
   "execution_count": null,
   "metadata": {
    "ExecuteTime": {
     "end_time": "2016-05-07T05:15:16.880550",
     "start_time": "2016-05-07T05:15:16.837402"
    },
    "collapsed": false
   },
   "outputs": [],
   "source": [
    "print(\"\\nMost frequently played media:\")\n",
    "print(pd.value_counts(logs[\"name\"]).head(10))\n",
    "\n",
    "print(\"\\nMost frequently played artists:\")\n",
    "print(pd.value_counts(logs[\"artist\"]).head(10))"
   ]
  },
  {
   "cell_type": "code",
   "execution_count": null,
   "metadata": {
    "ExecuteTime": {
     "end_time": "2016-05-07T05:15:17.466379",
     "start_time": "2016-05-07T05:15:16.882014"
    },
    "collapsed": false
   },
   "outputs": [],
   "source": [
    "logs[\"play_hour\"] = pd.DatetimeIndex(logs['date']).hour\n",
    "\n",
    "plt.figure(figsize=(15, 7))\n",
    "ax = plt.subplot(111)\n",
    "ax.spines[\"top\"].set_visible(False)\n",
    "ax.spines[\"right\"].set_visible(False)\n",
    "ax.get_xaxis().tick_bottom()\n",
    "ax.get_yaxis().tick_left()\n",
    "\n",
    "plt.xticks(range(0, 24), fontsize=14)\n",
    "plt.yticks(fontsize=14)\n",
    "\n",
    "plt.xlabel(\"Hour\", fontsize=16)  \n",
    "plt.ylabel(\"Frequency\", fontsize=16)  \n",
    "\n",
    "_ = plt.hist(logs['play_hour'], bins=range(0, 25))\n",
    "plt.savefig('by-hour.png')\n"
   ]
  },
  {
   "cell_type": "code",
   "execution_count": null,
   "metadata": {
    "ExecuteTime": {
     "end_time": "2016-05-07T05:15:18.416263",
     "start_time": "2016-05-07T05:15:17.467899"
    },
    "collapsed": false
   },
   "outputs": [],
   "source": [
    "import seaborn as sns\n",
    "sns.set()\n",
    "\n",
    "logs_hXg = logs.groupby(['play_hour', 'genre']).agg({'genre': 'count'})\n",
    "logs_hXg_long = logs_hXg.groupby(level=0).apply(lambda x: 100*x/float(x.sum()))\n",
    "genre_by_count = logs['genre'].value_counts().to_frame()\n",
    "logs_hXg_wide = logs_hXg_long.unstack('genre').fillna(0).reindex(range(24), fill_value=0).transpose()\n",
    "\n",
    "genre_by_count = logs['genre'].value_counts()#.to_frame()\n",
    "genre_count_genresort = genre_by_count.ix[np.sort(genre_by_count.index.values)]\n",
    "\n",
    "logs_hXg_wide_rank = (genre_count_genresort.values.argsort()[::-1]).argsort()\n",
    "logs_hXg_wide['rank'] = logs_hXg_wide_rank\n",
    "logs_hXg_wide.sort_values('rank', inplace=True)\n",
    "logs_hXg_wide.drop(['rank'], axis=1, inplace=True)\n",
    "\n",
    "mat_plot = logs_hXg_wide.as_matrix()\n",
    "idx = np.arange(24)\n",
    "\n",
    "sns.color_palette(\"hls\", 8)\n",
    "\n",
    "fig = plt.figure(figsize=(15, 7))\n",
    "\n",
    "ax = plt.subplot(111)\n",
    "ax.spines[\"top\"].set_visible(False)\n",
    "ax.spines[\"right\"].set_visible(False)\n",
    "ax.get_xaxis().tick_bottom()\n",
    "ax.get_yaxis().tick_left()\n",
    "\n",
    "plt.xticks(range(0, 24), fontsize=14)\n",
    "plt.yticks(fontsize=14)\n",
    "\n",
    "plt.title('Distribution of genre by hour of day', fontsize=16)\n",
    "plt.xlabel(\"Hour of day\", fontsize=16)  \n",
    "plt.ylabel(\"Percent (%)\", fontsize=16)  \n",
    "\n",
    "color_scheme = sns.color_palette(\"cubehelix\", mat_plot.shape[0])[::-1]\n",
    "sp = ax.stackplot(idx, mat_plot, edgecolor='white', colors=color_scheme)\n",
    "ax.margins(0, 0)\n",
    "\n",
    "num_in_legend = 5\n",
    "proxy = [ matplotlib.patches.Rectangle((0,0), 0,0, facecolor=pol.get_facecolor()[0]) for pol in sp ]\n",
    "ax.legend(proxy[:num_in_legend],\n",
    "          genre_by_count.index[:num_in_legend],\n",
    "          title=\"Top %d genres\" % num_in_legend,\n",
    "          bbox_to_anchor=(1.05, 1), loc=2, borderaxespad=0.)\n",
    "\n",
    "plt.show()"
   ]
  }
 ],
 "metadata": {
  "kernelspec": {
   "display_name": "Python 3",
   "language": "python",
   "name": "python3"
  },
  "language_info": {
   "codemirror_mode": {
    "name": "ipython",
    "version": 3
   },
   "file_extension": ".py",
   "mimetype": "text/x-python",
   "name": "python",
   "nbconvert_exporter": "python",
   "pygments_lexer": "ipython3",
   "version": "3.5.1"
  }
 },
 "nbformat": 4,
 "nbformat_minor": 0
}
