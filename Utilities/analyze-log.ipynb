{
 "cells": [
  {
   "cell_type": "code",
   "execution_count": null,
   "metadata": {
    "ExecuteTime": {
     "end_time": "2016-04-07T13:36:18.737902",
     "start_time": "2016-04-07T13:36:18.026456"
    },
    "collapsed": false
   },
   "outputs": [],
   "source": [
    "import numpy as np\n",
    "import pandas as pd\n",
    "import csv\n",
    "\n",
    "%matplotlib inline\n",
    "import matplotlib\n",
    "import matplotlib.pyplot as plt\n",
    "matplotlib.style.use('ggplot')\n"
   ]
  },
  {
   "cell_type": "code",
   "execution_count": null,
   "metadata": {
    "ExecuteTime": {
     "end_time": "2016-04-07T13:36:18.760934",
     "start_time": "2016-04-07T13:36:18.739417"
    },
    "collapsed": false
   },
   "outputs": [],
   "source": [
    "input_file = '~/Documents/itunes-log.csv'\n",
    "\n",
    "logs = pd.read_csv(input_file, quotechar = '\"', escapechar = \"\\\\\", parse_dates = [0])"
   ]
  },
  {
   "cell_type": "code",
   "execution_count": null,
   "metadata": {
    "ExecuteTime": {
     "end_time": "2016-04-07T13:36:18.775016",
     "start_time": "2016-04-07T13:36:18.762960"
    },
    "collapsed": false
   },
   "outputs": [],
   "source": [
    "print(\"\\nMost frequently played media:\")\n",
    "print(pd.value_counts(logs[\"name\"]).head(10))\n",
    "\n",
    "print(\"\\nMost frequently played artists:\")\n",
    "print(pd.value_counts(logs[\"artist\"]).head(10))"
   ]
  },
  {
   "cell_type": "code",
   "execution_count": null,
   "metadata": {
    "ExecuteTime": {
     "end_time": "2016-04-07T13:36:19.281596",
     "start_time": "2016-04-07T13:36:18.777333"
    },
    "collapsed": false
   },
   "outputs": [],
   "source": [
    "logs[\"play_hour\"] = pd.DatetimeIndex(logs['date']).hour\n",
    "\n",
    "plt.figure(figsize=(15, 7))\n",
    "ax = plt.subplot(111)\n",
    "ax.spines[\"top\"].set_visible(False)\n",
    "ax.spines[\"right\"].set_visible(False)\n",
    "ax.get_xaxis().tick_bottom()\n",
    "ax.get_yaxis().tick_left()\n",
    "\n",
    "plt.xticks(range(0, 24), fontsize=14)\n",
    "plt.yticks(fontsize=14)\n",
    "\n",
    "plt.xlabel(\"Hour\", fontsize=16)  \n",
    "plt.ylabel(\"Frequency\", fontsize=16)  \n",
    "\n",
    "_ = plt.hist(logs['play_hour'], bins=23)\n",
    "\n"
   ]
  }
 ],
 "metadata": {
  "kernelspec": {
   "display_name": "Python 3",
   "language": "python",
   "name": "python3"
  },
  "language_info": {
   "codemirror_mode": {
    "name": "ipython",
    "version": 3
   },
   "file_extension": ".py",
   "mimetype": "text/x-python",
   "name": "python",
   "nbconvert_exporter": "python",
   "pygments_lexer": "ipython3",
   "version": "3.5.0"
  }
 },
 "nbformat": 4,
 "nbformat_minor": 0
}
