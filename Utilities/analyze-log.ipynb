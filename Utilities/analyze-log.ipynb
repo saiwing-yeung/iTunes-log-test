{
 "cells": [
  {
   "cell_type": "code",
   "execution_count": null,
   "metadata": {
    "ExecuteTime": {
     "end_time": "2016-05-07T15:50:39.729180",
     "start_time": "2016-05-07T15:50:38.714401"
    },
    "collapsed": false
   },
   "outputs": [],
   "source": [
    "import numpy as np\n",
    "import pandas as pd\n",
    "import csv\n",
    "\n",
    "%matplotlib inline\n",
    "import matplotlib\n",
    "import matplotlib.pyplot as plt\n",
    "matplotlib.style.use('ggplot')"
   ]
  },
  {
   "cell_type": "code",
   "execution_count": null,
   "metadata": {
    "ExecuteTime": {
     "end_time": "2016-05-07T15:50:39.741223",
     "start_time": "2016-05-07T15:50:39.730959"
    },
    "collapsed": false
   },
   "outputs": [],
   "source": [
    "input_file = '~/Documents/itunes-log.csv'\n",
    "logs = pd.read_csv(input_file, quotechar = '\"', escapechar = \"\\\\\", parse_dates = [0])"
   ]
  },
  {
   "cell_type": "code",
   "execution_count": null,
   "metadata": {
    "ExecuteTime": {
     "end_time": "2016-05-07T15:50:39.788054",
     "start_time": "2016-05-07T15:50:39.742719"
    },
    "collapsed": false
   },
   "outputs": [],
   "source": [
    "print(\"\\nMost frequently played media:\")\n",
    "print(pd.value_counts(logs[\"name\"]).head(10))\n",
    "\n",
    "print(\"\\nMost frequently played artists:\")\n",
    "print(pd.value_counts(logs[\"artist\"]).head(10))"
   ]
  },
  {
   "cell_type": "code",
   "execution_count": null,
   "metadata": {
    "ExecuteTime": {
     "end_time": "2016-05-07T15:50:40.409150",
     "start_time": "2016-05-07T15:50:39.790211"
    },
    "collapsed": false
   },
   "outputs": [],
   "source": [
    "logs[\"play_hour\"] = pd.DatetimeIndex(logs['date']).hour\n",
    "\n",
    "plt.figure(figsize=(15, 7))\n",
    "ax = plt.subplot(111)\n",
    "ax.spines[\"top\"].set_visible(False)\n",
    "ax.spines[\"right\"].set_visible(False)\n",
    "ax.get_xaxis().tick_bottom()\n",
    "ax.get_yaxis().tick_left()\n",
    "\n",
    "plt.xticks(range(0, 24), fontsize=14)\n",
    "plt.yticks(fontsize=14)\n",
    "\n",
    "plt.xlabel(\"Hour\", fontsize=16)  \n",
    "plt.ylabel(\"Frequency\", fontsize=16)  \n",
    "\n",
    "plt.hist(logs['play_hour'], bins=range(0, 25))\n",
    "plt.savefig('count-by-hour.png')"
   ]
  },
  {
   "cell_type": "code",
   "execution_count": null,
   "metadata": {
    "ExecuteTime": {
     "end_time": "2016-05-07T15:50:41.971923",
     "start_time": "2016-05-07T15:50:40.410733"
    },
    "collapsed": false
   },
   "outputs": [],
   "source": [
    "import seaborn as sns\n",
    "sns.set()\n",
    "sns.color_palette(\"hls\", 8)\n",
    "\n",
    "# construct a DataFrame that represent the percentage of plays of each genre by hour\n",
    "logs_hXg = logs.groupby(['play_hour', 'genre']).agg({'genre': 'count'})\n",
    "logs_hXg_long = logs_hXg.groupby(level=0).apply(lambda x: 100*x/float(x.sum()))\n",
    "\n",
    "# turn this DataFrame into a wide format\n",
    "logs_hXg_wide = logs_hXg_long.unstack('genre').fillna(0).reindex(range(24), fill_value=0).transpose()\n",
    "\n",
    "# sort logs_hXg_wide by the total number of plays per genre\n",
    "genre_by_count_sorted = logs['genre'].value_counts()\n",
    "genre_count = genre_by_count_sorted.ix[np.sort(genre_by_count_sorted.index.values)]\n",
    "\n",
    "# sort logs_hXg_wide so that higher ranked genres appear on top, in the same order as the legend\n",
    "logs_hXg_wide['rank'] = (genre_count.values.argsort()[::-1]).argsort()\n",
    "logs_hXg_wide.sort_values('rank', inplace=True, ascending=False)\n",
    "logs_hXg_wide.drop(['rank'], axis=1, inplace=True)\n",
    "\n",
    "# create the data to be used for plotting\n",
    "mat_plot = logs_hXg_wide.as_matrix()\n",
    "idx = np.arange(24)\n",
    "\n",
    "# prepare the plot\n",
    "fig = plt.figure(figsize=(15, 7))\n",
    "ax = plt.subplot(111)\n",
    "ax.margins(0, 0)\n",
    "\n",
    "plt.xticks(range(0, 24), fontsize=14)\n",
    "plt.yticks(fontsize=14)\n",
    "\n",
    "plt.title('Distribution of genre by hour of day', fontsize=16)\n",
    "plt.xlabel(\"Hour of day\", fontsize=16)  \n",
    "plt.ylabel(\"Percent (%)\", fontsize=16)  \n",
    "\n",
    "# set up color scheme and plot the figure\n",
    "color_scheme = sns.color_palette(\"cubehelix\", mat_plot.shape[0])\n",
    "sp = ax.stackplot(idx, mat_plot, edgecolor='white', colors=color_scheme)\n",
    "\n",
    "# legend\n",
    "num_in_legend = 5 # number of genres to show in the legend\n",
    "proxy = list(reversed( [ matplotlib.patches.Rectangle((0, 0), 0, 0, facecolor=pol.get_facecolor()[0])\n",
    "                        for pol in sp ] ))\n",
    "ax.legend(proxy[:num_in_legend], genre_by_count_sorted.index[:num_in_legend],\n",
    "          title=\"Top %d genres\" % num_in_legend, bbox_to_anchor=(1.05, 1), loc=2, borderaxespad=0.)\n",
    "\n",
    "# need to specify bbox otherwise legend would be clipped in the saved figure\n",
    "plt.savefig('genre-by-hour.png', bbox_inches='tight')\n",
    "plt.show()"
   ]
  }
 ],
 "metadata": {
  "kernelspec": {
   "display_name": "Python 3",
   "language": "python",
   "name": "python3"
  },
  "language_info": {
   "codemirror_mode": {
    "name": "ipython",
    "version": 3
   },
   "file_extension": ".py",
   "mimetype": "text/x-python",
   "name": "python",
   "nbconvert_exporter": "python",
   "pygments_lexer": "ipython3",
   "version": "3.5.1"
  }
 },
 "nbformat": 4,
 "nbformat_minor": 0
}
